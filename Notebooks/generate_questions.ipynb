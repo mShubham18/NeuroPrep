{
 "cells": [
  {
   "cell_type": "code",
   "execution_count": 6,
   "metadata": {},
   "outputs": [],
   "source": [
    "import sys\n",
    "import os\n",
    "\n",
    "# Add the project's root directory to sys.path\n",
    "sys.path.append(os.path.abspath(\"..\"))  # Adjust if needed\n"
   ]
  },
  {
   "cell_type": "code",
   "execution_count": 2,
   "metadata": {},
   "outputs": [],
   "source": [
    "metrics_dict = {'difficulty': '6/10',\n",
    " 'experience': 'Entry-Level',\n",
    " 'skillset': 'Programming, Web Development, Teaching, Problem Solving',\n",
    " 'aptitude_focus': 'Logical Reasoning, Numerical Reasoning, Abstract Reasoning',\n",
    " 'technical_focus': 'Data Structures, Algorithms, Web Technologies, Software Development',\n",
    " 'hr_focus': 'Behavioral Questions, Situational Questions, Motivation Questions',\n",
    " 'experience_level_categorization': 'Entry-Level: 0-2 Years',\n",
    " 'technical_skill_emphasis': 'Emphasis on Fundamentals with Web Technologies',\n",
    " 'domain_knowledge_emphasis': 'Moderate Emphasis on Algorithms & Data Structures',\n",
    " 'aptitude_test_skill_split': 'Verbal Reasoning: 30%, Numerical Reasoning: 30%, Logical Reasoning: 40%',\n",
    " 'technical_test_skill_split': 'Data Structures: 30%, Algorithms: 30%, Web Technologies: 40%',\n",
    " 'question_format_diversity': 'Multiple Choice, Coding Problems, Open-Ended Questions',\n",
    " 'skill_proficiency_levels': 'Beginner: 60%, Intermediate: 40%',\n",
    " 'skill_importance_weights': 'Programming: 40%, Web Development: 30%, Problem Solving: 30%',\n",
    " 'contextual_question_scenarios': 'Simulated Work Scenarios, Project-Based Scenarios',\n",
    " 'test_time_allocation': 'Aptitude: 25%, Technical: 50%, HR: 25%',\n",
    " 'code_writing_emphasis': 'Moderate (Focus on understanding logic)',\n",
    " 'programming_language_prioritization': 'Java, HTML, PHP, MySQL, Perl',\n",
    " 'hr_round_focus_areas': 'Career Goals, Teamwork, Problem-Solving Approach',\n",
    " 'behavioral_competencies_tested': 'Communication, Teamwork, Adaptability, Problem-Solving',\n",
    " 'situational_judgment_scenarios': 'Conflict Resolution, Ethical Dilemmas, Team Project Scenarios'}"
   ]
  },
  {
   "cell_type": "code",
   "execution_count": null,
   "metadata": {},
   "outputs": [],
   "source": [
    "prompt = f\"\"\"I am creating a web app platform that fetches user resumes and provides a mock interview consisting of Aptitude & Reasoning, Technical, and HR rounds. I have some detailed metrics that can be used to create question content for the exam.\n",
    "\n",
    "I'll be providing the metrics to you in the form of dictionary The metrics contain the information that you could use to create the question like difficulty, skills and all. it consits of many other metrics too so only use those metrics that are needed for questions related to aptitude as i'll be seprately creating for other techniacla rounds.\n",
    "what i need in return is A list of 30 mcq based aptitude questions that are in the form of this\n",
    "what is x~ option1,option2,option3,option4\n",
    "it should be a list of comma seperated qustions seperated by || to differentiate. \n",
    "here is the dictionary. do not give salutations just output\n",
    "\n",
    "{metrics_dict}\"\"\"\n",
    "response = model.generate_content(prompt)\n",
    "questions = (response.text).split(\"||\")\n",
    "questions_dict = {}\n",
    "for line in questions:\n",
    "    question = line.split(\"~\")[0]\n",
    "    mcq_list= line.split(\"~\")[1]\n",
    "    mcq_list = mcq_list.split(\",\")\n",
    "    questions_dict[question]=mcq_list\n"
   ]
  },
  {
   "cell_type": "code",
   "execution_count": 8,
   "metadata": {},
   "outputs": [
    {
     "name": "stderr",
     "output_type": "stream",
     "text": [
      "c:\\Users\\HP\\OneDrive\\Documents\\NeuroPrep\\neuroprep\\Lib\\site-packages\\tqdm\\auto.py:21: TqdmWarning: IProgress not found. Please update jupyter and ipywidgets. See https://ipywidgets.readthedocs.io/en/stable/user_install.html\n",
      "  from .autonotebook import tqdm as notebook_tqdm\n"
     ]
    }
   ],
   "source": [
    "import google.generativeai as genai\n",
    "import re\n",
    "import os\n",
    "from dotenv import load_dotenv\n",
    "load_dotenv()\n",
    "GEMINI_API_KEY=os.getenv(\"GEMINI_API_KEY\")\n",
    "genai.configure(api_key=GEMINI_API_KEY)\n",
    "model = genai.GenerativeModel(\"gemini-2.0-flash\")"
   ]
  },
  {
   "cell_type": "code",
   "execution_count": null,
   "metadata": {},
   "outputs": [],
   "source": [
    "response = model.generate_content(prompt)\n",
    "questions = (response.text).split(\"||\")\n",
    "questions_dict = {}\n",
    "for line in questions:\n",
    "    question = line.split(\"~\")[0]\n",
    "    mcq_list= line.split(\"~\")[1]\n",
    "    mcq_list = mcq_list.split(\",\")\n",
    "    questions_dict[question]=mcq_list"
   ]
  },
  {
   "cell_type": "code",
   "execution_count": null,
   "metadata": {},
   "outputs": [],
   "source": [
    "questions = (response.text).split(\"||\")\n",
    "questions_dict = {}\n",
    "for line in questions:\n",
    "    question = line.split(\"~\")[0]\n",
    "    mcq_list= line.split(\"~\")[1]\n",
    "    mcq_list = mcq_list.split(\",\")\n",
    "    questions_dict[question]=mcq_list"
   ]
  },
  {
   "cell_type": "code",
   "execution_count": 12,
   "metadata": {},
   "outputs": [
    {
     "data": {
      "text/plain": [
       "['What is the next number in the series: 2, 6, 12, 20, ?~28,30,32,34 ',\n",
       " ' A train travels 120 km in 2 hours. What is its average speed?~40 km/hr,60 km/hr,80 km/hr,100 km/hr ',\n",
       " \" If 'A' is coded as 1, 'B' as 2, and so on, what is the code for 'CAT'?~3120,312,3121,3012 \",\n",
       " ' John is taller than Peter, and Peter is taller than Sam. Who is the shortest?~John,Peter,Sam,Cannot be determined ',\n",
       " ' What is the value of x if 3x + 5 = 14?~3,4,5,6 ',\n",
       " ' If a shirt costs $20 and is on sale for 20% off, what is the sale price?~$15,$16,$17,$18 ',\n",
       " ' Which number is the odd one out: 2, 4, 5, 6, 8?~2,4,5,6 ',\n",
       " ' If all squares are rectangles, and all rectangles are parallelograms, then all squares are...?~Circles,Parallelograms,Triangles,Rhombuses ',\n",
       " ' A clock gains 5 minutes per hour. How much time will it gain in 12 hours?~30 minutes,1 hour,1.5 hours,2 hours ',\n",
       " ' What is the area of a rectangle with length 10 cm and width 5 cm?~25 sq cm,50 sq cm,75 sq cm,100 sq cm ',\n",
       " ' If a = 5 and b = 3, what is the value of (a + b)^2?~16,34,64,8 ',\n",
       " ' A pie is cut into 6 equal slices. If you eat 2 slices, what fraction of the pie did you eat?~1/6,1/3,1/2,2/3 ',\n",
       " ' If a car travels 300 miles in 6 hours, what is its average speed?~40 mph,50 mph,60 mph,70 mph ',\n",
       " ' What comes next in the sequence: A, C, F, J, ?~O,P,Q,R ',\n",
       " ' If 4 workers can complete a job in 6 days, how long will it take 3 workers to complete the same job?~6 days,7 days,8 days,9 days ',\n",
       " ' Which of the following is not a prime number: 2, 3, 5, 9?~2,3,5,9 ',\n",
       " \" If 'TABLE' is coded as 'UBCMF', how is 'CHAIR' coded?~DJBJS,BIDJS,DJBIS,DBJIS \",\n",
       " ' What is 15% of 200?~20,25,30,35 ',\n",
       " ' A bag contains 3 red balls and 5 blue balls. What is the probability of picking a red ball?~3/8,5/8,1/2,2/5 ',\n",
       " ' Which word does NOT belong: apple, banana, carrot, orange?~apple,banana,carrot,orange ',\n",
       " ' Solve for x: 2x - 7 = 3~4,5,6,7 ',\n",
       " ' What is the missing number: 8, 16, ?, 32, 40~20,22,24,28 ',\n",
       " ' If a store sells an item for $50 after a 25% markup, what was the original cost?~$35.50,$37.50,$40.00,$42.50 ',\n",
       " ' Which shape comes next in the sequence: Circle, Square, Triangle, Circle, Square, ?~Circle,Square,Triangle,Pentagon ',\n",
       " ' If you invest $1000 at a simple interest rate of 5% per year, how much interest will you earn in 3 years?~$100,$150,$200,$250 ',\n",
       " ' What number should replace the question mark: 1, 4, 9, ?, 25~12,14,16,18 ',\n",
       " ' If a dozen eggs cost $3.60, what does one egg cost?~$0.25,$0.30,$0.35,$0.40 ',\n",
       " ' Which direction is opposite to Southeast?~Northeast,Northwest,Southwest,North ',\n",
       " ' A car travels 240 miles using 8 gallons of gas. How many miles per gallon does it get?~20 mpg,25 mpg,30 mpg,35 mpg ',\n",
       " ' If x + y = 10 and x - y = 2, what is the value of x?~4,5,6,7\\n']"
      ]
     },
     "execution_count": 12,
     "metadata": {},
     "output_type": "execute_result"
    }
   ],
   "source": [
    "questions"
   ]
  },
  {
   "cell_type": "code",
   "execution_count": 15,
   "metadata": {},
   "outputs": [],
   "source": [
    "questions_dict = {}\n",
    "for line in questions:\n",
    "    question = line.split(\"~\")[0]\n",
    "    mcq_list= line.split(\"~\")[1]\n",
    "    mcq_list = mcq_list.split(\",\")\n",
    "    questions_dict[question]=mcq_list"
   ]
  },
  {
   "cell_type": "code",
   "execution_count": 16,
   "metadata": {},
   "outputs": [
    {
     "data": {
      "text/plain": [
       "{'What is the next number in the series: 2, 6, 12, 20, ?': ['28',\n",
       "  '30',\n",
       "  '32',\n",
       "  '34 '],\n",
       " ' A train travels 120 km in 2 hours. What is its average speed?': ['40 km/hr',\n",
       "  '60 km/hr',\n",
       "  '80 km/hr',\n",
       "  '100 km/hr '],\n",
       " \" If 'A' is coded as 1, 'B' as 2, and so on, what is the code for 'CAT'?\": ['3120',\n",
       "  '312',\n",
       "  '3121',\n",
       "  '3012 '],\n",
       " ' John is taller than Peter, and Peter is taller than Sam. Who is the shortest?': ['John',\n",
       "  'Peter',\n",
       "  'Sam',\n",
       "  'Cannot be determined '],\n",
       " ' What is the value of x if 3x + 5 = 14?': ['3', '4', '5', '6 '],\n",
       " ' If a shirt costs $20 and is on sale for 20% off, what is the sale price?': ['$15',\n",
       "  '$16',\n",
       "  '$17',\n",
       "  '$18 '],\n",
       " ' Which number is the odd one out: 2, 4, 5, 6, 8?': ['2', '4', '5', '6 '],\n",
       " ' If all squares are rectangles, and all rectangles are parallelograms, then all squares are...?': ['Circles',\n",
       "  'Parallelograms',\n",
       "  'Triangles',\n",
       "  'Rhombuses '],\n",
       " ' A clock gains 5 minutes per hour. How much time will it gain in 12 hours?': ['30 minutes',\n",
       "  '1 hour',\n",
       "  '1.5 hours',\n",
       "  '2 hours '],\n",
       " ' What is the area of a rectangle with length 10 cm and width 5 cm?': ['25 sq cm',\n",
       "  '50 sq cm',\n",
       "  '75 sq cm',\n",
       "  '100 sq cm '],\n",
       " ' If a = 5 and b = 3, what is the value of (a + b)^2?': ['16',\n",
       "  '34',\n",
       "  '64',\n",
       "  '8 '],\n",
       " ' A pie is cut into 6 equal slices. If you eat 2 slices, what fraction of the pie did you eat?': ['1/6',\n",
       "  '1/3',\n",
       "  '1/2',\n",
       "  '2/3 '],\n",
       " ' If a car travels 300 miles in 6 hours, what is its average speed?': ['40 mph',\n",
       "  '50 mph',\n",
       "  '60 mph',\n",
       "  '70 mph '],\n",
       " ' What comes next in the sequence: A, C, F, J, ?': ['O', 'P', 'Q', 'R '],\n",
       " ' If 4 workers can complete a job in 6 days, how long will it take 3 workers to complete the same job?': ['6 days',\n",
       "  '7 days',\n",
       "  '8 days',\n",
       "  '9 days '],\n",
       " ' Which of the following is not a prime number: 2, 3, 5, 9?': ['2',\n",
       "  '3',\n",
       "  '5',\n",
       "  '9 '],\n",
       " \" If 'TABLE' is coded as 'UBCMF', how is 'CHAIR' coded?\": ['DJBJS',\n",
       "  'BIDJS',\n",
       "  'DJBIS',\n",
       "  'DBJIS '],\n",
       " ' What is 15% of 200?': ['20', '25', '30', '35 '],\n",
       " ' A bag contains 3 red balls and 5 blue balls. What is the probability of picking a red ball?': ['3/8',\n",
       "  '5/8',\n",
       "  '1/2',\n",
       "  '2/5 '],\n",
       " ' Which word does NOT belong: apple, banana, carrot, orange?': ['apple',\n",
       "  'banana',\n",
       "  'carrot',\n",
       "  'orange '],\n",
       " ' Solve for x: 2x - 7 = 3': ['4', '5', '6', '7 '],\n",
       " ' What is the missing number: 8, 16, ?, 32, 40': ['20', '22', '24', '28 '],\n",
       " ' If a store sells an item for $50 after a 25% markup, what was the original cost?': ['$35.50',\n",
       "  '$37.50',\n",
       "  '$40.00',\n",
       "  '$42.50 '],\n",
       " ' Which shape comes next in the sequence: Circle, Square, Triangle, Circle, Square, ?': ['Circle',\n",
       "  'Square',\n",
       "  'Triangle',\n",
       "  'Pentagon '],\n",
       " ' If you invest $1000 at a simple interest rate of 5% per year, how much interest will you earn in 3 years?': ['$100',\n",
       "  '$150',\n",
       "  '$200',\n",
       "  '$250 '],\n",
       " ' What number should replace the question mark: 1, 4, 9, ?, 25': ['12',\n",
       "  '14',\n",
       "  '16',\n",
       "  '18 '],\n",
       " ' If a dozen eggs cost $3.60, what does one egg cost?': ['$0.25',\n",
       "  '$0.30',\n",
       "  '$0.35',\n",
       "  '$0.40 '],\n",
       " ' Which direction is opposite to Southeast?': ['Northeast',\n",
       "  'Northwest',\n",
       "  'Southwest',\n",
       "  'North '],\n",
       " ' A car travels 240 miles using 8 gallons of gas. How many miles per gallon does it get?': ['20 mpg',\n",
       "  '25 mpg',\n",
       "  '30 mpg',\n",
       "  '35 mpg '],\n",
       " ' If x + y = 10 and x - y = 2, what is the value of x?': ['4',\n",
       "  '5',\n",
       "  '6',\n",
       "  '7\\n']}"
      ]
     },
     "execution_count": 16,
     "metadata": {},
     "output_type": "execute_result"
    }
   ],
   "source": [
    "questions_dict"
   ]
  },
  {
   "cell_type": "code",
   "execution_count": 17,
   "metadata": {},
   "outputs": [
    {
     "data": {
      "text/plain": [
       "30"
      ]
     },
     "execution_count": 17,
     "metadata": {},
     "output_type": "execute_result"
    }
   ],
   "source": [
    "len(questions_dict)"
   ]
  },
  {
   "cell_type": "code",
   "execution_count": 19,
   "metadata": {},
   "outputs": [],
   "source": [
    "prompt = f\"\"\"I am creating a web app platform that fetches user resumes and provides a mock interview consisting of Aptitude & Reasoning, Technical, and HR rounds. I have some detailed metrics that can be used to create question content for the exam.\n",
    "\n",
    "I'll be providing the metrics to you in the form of dictionary The metrics contain the information that you could use to create the question like difficulty, skills and all. it consits of many other metrics too so only use those metrics that are needed for questions related to aptitude as i'll be seprately creating for other techniacla rounds.\n",
    "what i need in return is A list of 30 mcq based \"System design,OS,DBMS,ComputerNetwork\" questions that are in the form of this\n",
    "what is x~ option1,option2,option3,option4\n",
    "it should be a list of comma seperated qustions seperated by || to differentiate. \n",
    "here is the dictionary. do not give salutations just output\n",
    "\n",
    "{metrics_dict}\"\"\"\n",
    "response = model.generate_content(prompt)\n",
    "questions = (response.text).split(\"||\")\n",
    "\n"
   ]
  },
  {
   "cell_type": "code",
   "execution_count": 21,
   "metadata": {},
   "outputs": [
    {
     "data": {
      "text/plain": [
       "['what number comes next in the sequence 2, 6, 12, 20~ 30, 32, 28, 24',\n",
       " 'what is the next letter in the series B, E, H, K~ N, M, O, L',\n",
       " 'if all Bloops are Razzies and some Razzies are Lazooms, then~ Some Bloops are definitely Lazooms, All Bloops are Lazooms, Some Bloops are possibly Lazooms, No Bloops are Lazooms',\n",
       " 'Which of the following is the odd one out: Apple, Banana, Orange, Carrot~ Carrot, Apple, Banana, Orange',\n",
       " 'A is the brother of B. C is the father of A. D is the brother of E. E is the daughter of B. Who is the uncle of D~ A, C, B, E',\n",
       " 'Complete the analogy: Dog is to Bark as Cat is to~ Meow, Hiss, Growl, Purr',\n",
       " \"If 'TABLE' is coded as 'VCDGN', then how is 'CHAIR' coded~ EJCIT, EJCIR, EGCTI, EGCIT\",\n",
       " 'What is the missing number: 4, 9, 16, 25, ?~ 36, 30, 49, 64',\n",
       " 'Choose the figure which is different from the rest~ Figure A, Figure B, Figure C, Figure D (Assume figures are displayed)',\n",
       " \"If 'A' is coded as 1, 'B' as 2, and so on, how is 'FAT' coded~ 6120, 6110, 6210, 5120\",\n",
       " 'Which of the following is the odd one out: January, March, May, June~ June, January, March, May',\n",
       " \"If 'red' is coded as '6720', 'green' is coded as '167714', and 'blue' is coded as '212215', what would be the code for 'violet'?~ 22915120, 22105120, 22910512, 22951012\",\n",
       " 'A train travels 240 km in 4 hours. What is its average speed~ 60 km/h, 80 km/h, 100 km/h, 120 km/h',\n",
       " 'What comes next in the sequence: 1, 4, 9, 16, 25~ 36, 35, 48, 49',\n",
       " 'Which of the following does not belong: Circle, Square, Triangle, Cube~ Cube, Circle, Square, Triangle',\n",
       " \"If 'sky' is 'blue', 'blue' is 'water', 'water' is 'red', then what is the color of the sky~ Water, Blue, Red, Sky\",\n",
       " 'Complete the series: 2, 5, 9, 14, ?~ 20, 19, 21, 22',\n",
       " 'What is the next shape in the sequence (Assuming a sequence of shapes is visually presented)~ Shape A, Shape B, Shape C, Shape D',\n",
       " \"If 'Paper' is coded as '16116518', how would you code 'PENCIL'?~ 165143912, 165143913, 165413912, 165413913\",\n",
       " 'A clock is set right at 8 a.m. The clock gains 10 minutes in 24 hours. What will be the true time when the clock indicates 1 p.m. on the following day~ 12:48 p.m., 1:12 p.m., 12:30 p.m., 1:00 p.m.',\n",
       " 'If ROSE is coded as TQUG, how is BISCUIT coded~ DKUEWKV, DJUEWKV, DKVEWKV, DJVEWKV',\n",
       " 'What is the missing number: 3, 8, 15, 24, ?~ 35, 36, 37, 38',\n",
       " 'Find the odd one out: Book, Paper, Pencil, Pen~ Book, Paper, Pencil, Pen',\n",
       " 'If A = 1, B = 2, C = 3, and so on, then what is the value of FACE~ 21, 24, 27, 30',\n",
       " 'A man walks 5 km East, then turns South and walks 12 km. How far is he from the starting point~ 13 km, 17 km, 7 km, 10 km',\n",
       " \"If 'light' is 'dark', 'dark' is 'green', 'green' is 'blue', 'blue' is 'red', then what is the color of leaf~ Blue, Green, Red, Dark\",\n",
       " 'Which number should come next: 2, 6, 12, 20~ 30, 32, 28, 34',\n",
       " 'Complete the series: ACE, BDF, CEG, ?~ DFH, DHE, DGH, EFH',\n",
       " \"If 'apple' is coded as 'bqmmf', then how is 'orange' coded~ psbohf, psboif, qsbogf, psbnf\",\n",
       " 'Choose the word that is least like the other words: Plate, Spoon, Bowl, Oven~ Oven, Plate, Spoon, Bowl\\n']"
      ]
     },
     "execution_count": 21,
     "metadata": {},
     "output_type": "execute_result"
    }
   ],
   "source": [
    "questions"
   ]
  },
  {
   "cell_type": "code",
   "execution_count": 22,
   "metadata": {},
   "outputs": [],
   "source": [
    "questions_dict = {}\n",
    "for line in questions:\n",
    "    question = line.split(\"~\")[0]\n",
    "    mcq_list= line.split(\"~\")[1]\n",
    "    mcq_list = mcq_list.split(\",\")\n",
    "    questions_dict[question]=mcq_list"
   ]
  },
  {
   "cell_type": "code",
   "execution_count": 23,
   "metadata": {},
   "outputs": [
    {
     "data": {
      "text/plain": [
       "{'what number comes next in the sequence 2, 6, 12, 20': [' 30',\n",
       "  ' 32',\n",
       "  ' 28',\n",
       "  ' 24'],\n",
       " 'what is the next letter in the series B, E, H, K': [' N', ' M', ' O', ' L'],\n",
       " 'if all Bloops are Razzies and some Razzies are Lazooms, then': [' Some Bloops are definitely Lazooms',\n",
       "  ' All Bloops are Lazooms',\n",
       "  ' Some Bloops are possibly Lazooms',\n",
       "  ' No Bloops are Lazooms'],\n",
       " 'Which of the following is the odd one out: Apple, Banana, Orange, Carrot': [' Carrot',\n",
       "  ' Apple',\n",
       "  ' Banana',\n",
       "  ' Orange'],\n",
       " 'A is the brother of B. C is the father of A. D is the brother of E. E is the daughter of B. Who is the uncle of D': [' A',\n",
       "  ' C',\n",
       "  ' B',\n",
       "  ' E'],\n",
       " 'Complete the analogy: Dog is to Bark as Cat is to': [' Meow',\n",
       "  ' Hiss',\n",
       "  ' Growl',\n",
       "  ' Purr'],\n",
       " \"If 'TABLE' is coded as 'VCDGN', then how is 'CHAIR' coded\": [' EJCIT',\n",
       "  ' EJCIR',\n",
       "  ' EGCTI',\n",
       "  ' EGCIT'],\n",
       " 'What is the missing number: 4, 9, 16, 25, ?': [' 36', ' 30', ' 49', ' 64'],\n",
       " 'Choose the figure which is different from the rest': [' Figure A',\n",
       "  ' Figure B',\n",
       "  ' Figure C',\n",
       "  ' Figure D (Assume figures are displayed)'],\n",
       " \"If 'A' is coded as 1, 'B' as 2, and so on, how is 'FAT' coded\": [' 6120',\n",
       "  ' 6110',\n",
       "  ' 6210',\n",
       "  ' 5120'],\n",
       " 'Which of the following is the odd one out: January, March, May, June': [' June',\n",
       "  ' January',\n",
       "  ' March',\n",
       "  ' May'],\n",
       " \"If 'red' is coded as '6720', 'green' is coded as '167714', and 'blue' is coded as '212215', what would be the code for 'violet'?\": [' 22915120',\n",
       "  ' 22105120',\n",
       "  ' 22910512',\n",
       "  ' 22951012'],\n",
       " 'A train travels 240 km in 4 hours. What is its average speed': [' 60 km/h',\n",
       "  ' 80 km/h',\n",
       "  ' 100 km/h',\n",
       "  ' 120 km/h'],\n",
       " 'What comes next in the sequence: 1, 4, 9, 16, 25': [' 36',\n",
       "  ' 35',\n",
       "  ' 48',\n",
       "  ' 49'],\n",
       " 'Which of the following does not belong: Circle, Square, Triangle, Cube': [' Cube',\n",
       "  ' Circle',\n",
       "  ' Square',\n",
       "  ' Triangle'],\n",
       " \"If 'sky' is 'blue', 'blue' is 'water', 'water' is 'red', then what is the color of the sky\": [' Water',\n",
       "  ' Blue',\n",
       "  ' Red',\n",
       "  ' Sky'],\n",
       " 'Complete the series: 2, 5, 9, 14, ?': [' 20', ' 19', ' 21', ' 22'],\n",
       " 'What is the next shape in the sequence (Assuming a sequence of shapes is visually presented)': [' Shape A',\n",
       "  ' Shape B',\n",
       "  ' Shape C',\n",
       "  ' Shape D'],\n",
       " \"If 'Paper' is coded as '16116518', how would you code 'PENCIL'?\": [' 165143912',\n",
       "  ' 165143913',\n",
       "  ' 165413912',\n",
       "  ' 165413913'],\n",
       " 'A clock is set right at 8 a.m. The clock gains 10 minutes in 24 hours. What will be the true time when the clock indicates 1 p.m. on the following day': [' 12:48 p.m.',\n",
       "  ' 1:12 p.m.',\n",
       "  ' 12:30 p.m.',\n",
       "  ' 1:00 p.m.'],\n",
       " 'If ROSE is coded as TQUG, how is BISCUIT coded': [' DKUEWKV',\n",
       "  ' DJUEWKV',\n",
       "  ' DKVEWKV',\n",
       "  ' DJVEWKV'],\n",
       " 'What is the missing number: 3, 8, 15, 24, ?': [' 35', ' 36', ' 37', ' 38'],\n",
       " 'Find the odd one out: Book, Paper, Pencil, Pen': [' Book',\n",
       "  ' Paper',\n",
       "  ' Pencil',\n",
       "  ' Pen'],\n",
       " 'If A = 1, B = 2, C = 3, and so on, then what is the value of FACE': [' 21',\n",
       "  ' 24',\n",
       "  ' 27',\n",
       "  ' 30'],\n",
       " 'A man walks 5 km East, then turns South and walks 12 km. How far is he from the starting point': [' 13 km',\n",
       "  ' 17 km',\n",
       "  ' 7 km',\n",
       "  ' 10 km'],\n",
       " \"If 'light' is 'dark', 'dark' is 'green', 'green' is 'blue', 'blue' is 'red', then what is the color of leaf\": [' Blue',\n",
       "  ' Green',\n",
       "  ' Red',\n",
       "  ' Dark'],\n",
       " 'Which number should come next: 2, 6, 12, 20': [' 30', ' 32', ' 28', ' 34'],\n",
       " 'Complete the series: ACE, BDF, CEG, ?': [' DFH', ' DHE', ' DGH', ' EFH'],\n",
       " \"If 'apple' is coded as 'bqmmf', then how is 'orange' coded\": [' psbohf',\n",
       "  ' psboif',\n",
       "  ' qsbogf',\n",
       "  ' psbnf'],\n",
       " 'Choose the word that is least like the other words: Plate, Spoon, Bowl, Oven': [' Oven',\n",
       "  ' Plate',\n",
       "  ' Spoon',\n",
       "  ' Bowl\\n']}"
      ]
     },
     "execution_count": 23,
     "metadata": {},
     "output_type": "execute_result"
    }
   ],
   "source": [
    "questions_dict"
   ]
  },
  {
   "cell_type": "code",
   "execution_count": null,
   "metadata": {},
   "outputs": [],
   "source": []
  }
 ],
 "metadata": {
  "kernelspec": {
   "display_name": "Python 3",
   "language": "python",
   "name": "python3"
  },
  "language_info": {
   "codemirror_mode": {
    "name": "ipython",
    "version": 3
   },
   "file_extension": ".py",
   "mimetype": "text/x-python",
   "name": "python",
   "nbconvert_exporter": "python",
   "pygments_lexer": "ipython3",
   "version": "3.12.9"
  }
 },
 "nbformat": 4,
 "nbformat_minor": 2
}
