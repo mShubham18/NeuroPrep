{
 "cells": [
  {
   "cell_type": "code",
   "execution_count": 5,
   "metadata": {},
   "outputs": [],
   "source": [
    "with open(\"output.txt\",\"r\") as file:\n",
    "    resume_content = file.read()"
   ]
  },
  {
   "cell_type": "code",
   "execution_count": null,
   "metadata": {},
   "outputs": [],
   "source": []
  },
  {
   "cell_type": "code",
   "execution_count": null,
   "metadata": {},
   "outputs": [],
   "source": []
  },
  {
   "cell_type": "code",
   "execution_count": 6,
   "metadata": {},
   "outputs": [],
   "source": [
    "prompt = f\"\"\"I am creating a web app platform that fetches user resumes and provides a mock interview consisting of Aptitude & Reasoning, Technical, and HR rounds. I need you to generate detailed insights that I can feed into an LLM to create question content for the exam.\n",
    "\n",
    "Provide structured insights such as experience level, test difficulty, skill set, and other relevant factors that will help structure the exam. Be as detailed and numeric as possible (e.g., use \"5/10\" instead of \"five out of ten\").\n",
    "\n",
    "Format the response as a comma-separated list, using \"||\" to separate different metrics. Do not include any titles, introductions, or salutations—just the insights in the format below:\n",
    "\n",
    "Metrics:\n",
    "\n",
    "Difficulty\n",
    "Experience\n",
    "Skillset\n",
    "Aptitude Focus\n",
    "Technical Focus\n",
    "HR Focus\n",
    "Experience Level Categorization\n",
    "Technical Skill Emphasis\n",
    "Domain Knowledge Emphasis\n",
    "Aptitude Test Skill Split\n",
    "Technical Test Skill Split\n",
    "Question Format Diversity\n",
    "Skill Proficiency Levels\n",
    "Skill Importance Weights\n",
    "Contextual Question Scenarios\n",
    "Test Time Allocation\n",
    "Code Writing Emphasis\n",
    "Programming Language Prioritization\n",
    "HR Round Focus Areas\n",
    "Behavioral Competencies Tested\n",
    "Situational Judgment Scenarios\n",
    "Instructions:\n",
    "\n",
    "Do not include any question types.\n",
    "Do not use any special symbols beyond commas and \"||\" as separators.\n",
    "Keep the response concise and structured.\n",
    "Here is the resume content: {resume_content}\"\"\"\n",
    "import google.generativeai as genai\n",
    "import re\n",
    "import os\n",
    "from dotenv import load_dotenv\n",
    "load_dotenv()\n",
    "GEMINI_API_KEY=os.getenv(\"GEMINI_API_KEY\")\n",
    "genai.configure(api_key=GEMINI_API_KEY)\n",
    "model = genai.GenerativeModel(\"gemini-2.0-flash\")\n",
    "response = model.generate_content(prompt)\n"
   ]
  },
  {
   "cell_type": "code",
   "execution_count": null,
   "metadata": {},
   "outputs": [],
   "source": [
    "import google.generativeai as genai\n",
    "import re\n",
    "import os\n",
    "from dotenv import load_dotenv\n",
    "load_dotenv()\n",
    "GEMINI_API_KEY=os.getenv(\"GEMINI_API_KEY\")\n",
    "genai.configure(api_key=GEMINI_API_KEY)\n",
    "model = genai.GenerativeModel(\"gemini-2.0-flash\")\n",
    "response = model.generate_content(prompt)"
   ]
  },
  {
   "cell_type": "code",
   "execution_count": 34,
   "metadata": {},
   "outputs": [],
   "source": [
    "metrics_info=list((response.text).split(\"||\"))"
   ]
  },
  {
   "cell_type": "code",
   "execution_count": 35,
   "metadata": {},
   "outputs": [
    {
     "data": {
      "text/plain": [
       "['4/10',\n",
       " 'Entry-Level',\n",
       " 'Software Development, Web Development, Teaching',\n",
       " 'Logical Reasoning, Pattern Recognition',\n",
       " 'Data Structures, Algorithms, Web Technologies',\n",
       " 'Communication, Teamwork, Problem-Solving',\n",
       " '0-2 Years Experience',\n",
       " 'Web Development (High), General Programming (Medium)',\n",
       " 'Algorithms (Low), Specific Frameworks (Low)',\n",
       " 'Verbal Reasoning (30%), Numerical Reasoning (30%), Abstract Reasoning (40%)',\n",
       " 'Data Structures (30%), Algorithms (30%), Web Technologies (40%)',\n",
       " 'Multiple Choice, Code Snippets, Open-Ended Questions',\n",
       " 'Basic (6/10), Intermediate (3/10), Advanced (1/10)',\n",
       " 'Web Development (40%), Data Structures (30%), Algorithms (30%)',\n",
       " 'Simulated Work Scenarios, Problem-Solving Challenges',\n",
       " 'Aptitude (20%), Technical (50%), HR (30%)',\n",
       " 'Low (20%)',\n",
       " 'Java (High), HTML (High), PHP (Medium), MySQL (Medium), Perl (Low), C (Low)',\n",
       " 'Cultural Fit, Teamwork, Career Goals',\n",
       " 'Teamwork, Communication, Adaptability',\n",
       " 'Conflict Resolution, Ethical Dilemmas\\n']"
      ]
     },
     "execution_count": 35,
     "metadata": {},
     "output_type": "execute_result"
    }
   ],
   "source": [
    "metrics_info"
   ]
  },
  {
   "cell_type": "code",
   "execution_count": 39,
   "metadata": {},
   "outputs": [],
   "source": [
    "metrics_titles = [\n",
    "    \"difficulty\",\n",
    "    \"experience\",\n",
    "    \"skillset\",\n",
    "    \"aptitude_focus\",\n",
    "    \"technical_focus\",\n",
    "    \"hr_focus\",\n",
    "    \"experience_level_categorization\",\n",
    "    \"technical_skill_emphasis\",\n",
    "    \"domain_knowledge_emphasis\",\n",
    "    \"aptitude_test_skill_split\",\n",
    "    \"technical_test_skill_split\",\n",
    "    \"question_format_diversity\",\n",
    "    \"skill_proficiency_levels\",\n",
    "    \"skill_importance_weights\",\n",
    "    \"contextual_question_scenarios\",\n",
    "    \"test_time_allocation\",\n",
    "    \"code_writing_emphasis\",\n",
    "    \"programming_language_prioritization\",\n",
    "    \"hr_round_focus_areas\",\n",
    "    \"behavioral_competencies_tested\",\n",
    "    \"situational_judgment_scenarios\"\n",
    "]\n",
    "\n"
   ]
  },
  {
   "cell_type": "code",
   "execution_count": 40,
   "metadata": {},
   "outputs": [
    {
     "data": {
      "text/plain": [
       "(21, 21)"
      ]
     },
     "execution_count": 40,
     "metadata": {},
     "output_type": "execute_result"
    }
   ],
   "source": [
    "len(metrics_info),len(metrics_titles)"
   ]
  },
  {
   "cell_type": "code",
   "execution_count": 43,
   "metadata": {},
   "outputs": [],
   "source": [
    "metrics_dict = {title:metric for title,metric in zip(metrics_titles,metrics_info)}"
   ]
  },
  {
   "cell_type": "code",
   "execution_count": null,
   "metadata": {},
   "outputs": [],
   "source": [
    "me"
   ]
  },
  {
   "cell_type": "code",
   "execution_count": null,
   "metadata": {},
   "outputs": [
    {
     "data": {
      "text/plain": [
       "{'difficulty': '4/10',\n",
       " 'experience': 'Entry-Level',\n",
       " 'skillset': 'Software Development, Web Development, Teaching',\n",
       " 'aptitude_focus': 'Logical Reasoning, Pattern Recognition',\n",
       " 'technical_focus': 'Data Structures, Algorithms, Web Technologies',\n",
       " 'hr_focus': 'Communication, Teamwork, Problem-Solving',\n",
       " 'experience_level_categorization': '0-2 Years Experience',\n",
       " 'technical_skill_emphasis': 'Web Development (High), General Programming (Medium)',\n",
       " 'domain_knowledge_emphasis': 'Algorithms (Low), Specific Frameworks (Low)',\n",
       " 'aptitude_test_skill_split': 'Verbal Reasoning (30%), Numerical Reasoning (30%), Abstract Reasoning (40%)',\n",
       " 'technical_test_skill_split': 'Data Structures (30%), Algorithms (30%), Web Technologies (40%)',\n",
       " 'question_format_diversity': 'Multiple Choice, Code Snippets, Open-Ended Questions',\n",
       " 'skill_proficiency_levels': 'Basic (6/10), Intermediate (3/10), Advanced (1/10)',\n",
       " 'skill_importance_weights': 'Web Development (40%), Data Structures (30%), Algorithms (30%)',\n",
       " 'contextual_question_scenarios': 'Simulated Work Scenarios, Problem-Solving Challenges',\n",
       " 'test_time_allocation': 'Aptitude (20%), Technical (50%), HR (30%)',\n",
       " 'code_writing_emphasis': 'Low (20%)',\n",
       " 'programming_language_prioritization': 'Java (High), HTML (High), PHP (Medium), MySQL (Medium), Perl (Low), C (Low)',\n",
       " 'hr_round_focus_areas': 'Cultural Fit, Teamwork, Career Goals',\n",
       " 'behavioral_competencies_tested': 'Teamwork, Communication, Adaptability',\n",
       " 'situational_judgment_scenarios': 'Conflict Resolution, Ethical Dilemmas\\n'}"
      ]
     },
     "execution_count": 44,
     "metadata": {},
     "output_type": "execute_result"
    }
   ],
   "source": [
    "def extract_metrics()->dict:\n",
    "    prompt = f\"\"\"I am creating a web app platform that fetches user resumes and provides a mock interview consisting of Aptitude & Reasoning, Technical, and HR rounds. I need you to generate detailed insights that I can feed into an LLM to create question content for the exam.\n",
    "\n",
    "    Provide structured insights such as experience level, test difficulty, skill set, and other relevant factors that will help structure the exam. Be as detailed and numeric as possible (e.g., use \"5/10\" instead of \"five out of ten\").\n",
    "\n",
    "    Format the response as a comma-separated list, using \"||\" to separate different metrics. Do not include any titles, introductions, or salutations—just the insights in the format below:\n",
    "\n",
    "    Metrics:\n",
    "\n",
    "    Difficulty\n",
    "    Experience\n",
    "    Skillset\n",
    "    Aptitude Focus\n",
    "    Technical Focus\n",
    "    HR Focus\n",
    "    Experience Level Categorization\n",
    "    Technical Skill Emphasis\n",
    "    Domain Knowledge Emphasis\n",
    "    Aptitude Test Skill Split\n",
    "    Technical Test Skill Split\n",
    "    Question Format Diversity\n",
    "    Skill Proficiency Levels\n",
    "    Skill Importance Weights\n",
    "    Contextual Question Scenarios\n",
    "    Test Time Allocation\n",
    "    Code Writing Emphasis\n",
    "    Programming Language Prioritization\n",
    "    HR Round Focus Areas\n",
    "    Behavioral Competencies Tested\n",
    "    Situational Judgment Scenarios\n",
    "    Instructions:\n",
    "\n",
    "    Do not include any question types.\n",
    "    Do not use any special symbols beyond commas and \"||\" as separators.\n",
    "    Keep the response concise and structured.\n",
    "    Here is the resume content: {resume_content}\"\"\"\n",
    "    import google.generativeai as genai\n",
    "    import re\n",
    "    import os\n",
    "    from dotenv import load_dotenv\n",
    "    load_dotenv()\n",
    "    GEMINI_API_KEY=os.getenv(\"GEMINI_API_KEY\")\n",
    "    genai.configure(api_key=GEMINI_API_KEY)\n",
    "    model = genai.GenerativeModel(\"gemini-2.0-flash\")\n",
    "    response = model.generate_content(prompt)\n",
    "    metrics_info=list((response.text).split(\"||\"))\n",
    "    metrics_titles = [\n",
    "    \"difficulty\",\n",
    "    \"experience\",\n",
    "    \"skillset\",\n",
    "    \"aptitude_focus\",\n",
    "    \"technical_focus\",\n",
    "    \"hr_focus\",\n",
    "    \"experience_level_categorization\",\n",
    "    \"technical_skill_emphasis\",\n",
    "    \"domain_knowledge_emphasis\",\n",
    "    \"aptitude_test_skill_split\",\n",
    "    \"technical_test_skill_split\",\n",
    "    \"question_format_diversity\",\n",
    "    \"skill_proficiency_levels\",\n",
    "    \"skill_importance_weights\",\n",
    "    \"contextual_question_scenarios\",\n",
    "    \"test_time_allocation\",\n",
    "    \"code_writing_emphasis\",\n",
    "    \"programming_language_prioritization\",\n",
    "    \"hr_round_focus_areas\",\n",
    "    \"behavioral_competencies_tested\",\n",
    "    \"situational_judgment_scenarios\"\n",
    "    ]\n",
    "    metrics_dict = {title:metric for title,metric in zip(metrics_titles,metrics_info)}\n",
    "    return metrics_dict\n",
    "\n"
   ]
  },
  {
   "cell_type": "code",
   "execution_count": null,
   "metadata": {},
   "outputs": [],
   "source": []
  }
 ],
 "metadata": {
  "kernelspec": {
   "display_name": "Python 3",
   "language": "python",
   "name": "python3"
  },
  "language_info": {
   "codemirror_mode": {
    "name": "ipython",
    "version": 3
   },
   "file_extension": ".py",
   "mimetype": "text/x-python",
   "name": "python",
   "nbconvert_exporter": "python",
   "pygments_lexer": "ipython3",
   "version": "3.12.9"
  }
 },
 "nbformat": 4,
 "nbformat_minor": 2
}
