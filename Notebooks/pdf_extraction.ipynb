{
 "cells": [
  {
   "cell_type": "code",
   "execution_count": 4,
   "metadata": {},
   "outputs": [],
   "source": [
    "path = \"Resources/resume.pdf\""
   ]
  },
  {
   "cell_type": "code",
   "execution_count": null,
   "metadata": {},
   "outputs": [],
   "source": [
    "import pdfplumber\n",
    "import docx\n",
    "import google.generativeai as genai\n",
    "import re\n",
    "import os\n",
    "from dotenv import load_dotenv\n",
    "load_dotenv()\n",
    "GEMINI_API_KEY=os.getenv(\"GEMINI_API_KEY\")\n",
    "\n",
    "# Initialize Gemini API\n",
    "model = genai.configure(api_key=GEMINI_API_KEY)\n",
    "\n",
    "# Extract text from a PDF file\n",
    "def extract_text_from_pdf(pdf_path):\n",
    "    text = \"\"\n",
    "    with pdfplumber.open(pdf_path) as pdf:\n",
    "        for page in pdf.pages:\n",
    "            text += page.extract_text() + \"\\n\"\n",
    "    return text.strip()\n",
    "\n",
    "# Extract text from a DOCX file\n",
    "def extract_text_from_docx(docx_path):\n",
    "    doc = docx.Document(docx_path)\n",
    "    return \"\\n\".join([para.text for para in doc.paragraphs]).strip()\n",
    "\n",
    "# Function to send resume text to Gemini for parsing\n",
    "def parse_resume_with_gemini(resume_text):\n",
    "    prompt = f\"\"\"\n",
    "    Extract the following details from the given resume text:\n",
    "    - Full Name\n",
    "    - Email\n",
    "    - Phone Number\n",
    "    - Education Details\n",
    "    - Work Experience\n",
    "    - Technical Skills\n",
    "    - Certifications (if any)\n",
    "\n",
    "    Resume Text:\n",
    "    {resume_text}\n",
    "\n",
    "    Return the response in JSON format.\n",
    "    \"\"\"\n",
    "\n",
    "    model = genai.GenerativeModel(\"gemini-pro\")\n",
    "    response = model.generate_content(prompt)\n",
    "\n",
    "    return response.text  # Gemini returns JSON-like structured text\n",
    "\n",
    "# Main function to process resumes\n",
    "def process_resume(file_path, file_type=\"pdf\"):\n",
    "    if file_type == \"pdf\":\n",
    "        resume_text = extract_text_from_pdf(file_path)\n",
    "    elif file_type == \"docx\":\n",
    "        resume_text = extract_text_from_docx(file_path)\n",
    "    else:\n",
    "        return {\"error\": \"Unsupported file format\"}\n",
    "\n",
    "    # Parse resume details using Gemini AI\n",
    "    parsed_data = parse_resume_with_gemini(resume_text)\n",
    "    return parsed_data\n"
   ]
  },
  {
   "cell_type": "code",
   "execution_count": 2,
   "metadata": {},
   "outputs": [
    {
     "name": "stderr",
     "output_type": "stream",
     "text": [
      "c:\\Users\\HP\\OneDrive\\Documents\\NeuroPrep\\neuroprep\\Lib\\site-packages\\tqdm\\auto.py:21: TqdmWarning: IProgress not found. Please update jupyter and ipywidgets. See https://ipywidgets.readthedocs.io/en/stable/user_install.html\n",
      "  from .autonotebook import tqdm as notebook_tqdm\n"
     ]
    }
   ],
   "source": [
    "import pdfplumber\n",
    "import docx\n",
    "import google.generativeai as genai\n",
    "import re\n",
    "import os\n",
    "from dotenv import load_dotenv\n",
    "load_dotenv()\n",
    "GEMINI_API_KEY=os.getenv(\"GEMINI_API_KEY\")\n",
    "\n",
    "# Initialize Gemini API\n",
    "model = genai.configure(api_key=GEMINI_API_KEY)\n",
    "\n",
    "# Extract text from a PDF file\n",
    "def extract_text_from_pdf(pdf_path):\n",
    "    text = \"\"\n",
    "    with pdfplumber.open(pdf_path) as pdf:\n",
    "        for page in pdf.pages:\n",
    "            text += page.extract_text() + \"\\n\"\n",
    "    return text.strip()\n",
    "\n",
    "# Extract text from a DOCX file\n",
    "def extract_text_from_docx(docx_path):\n",
    "    doc = docx.Document(docx_path)\n",
    "    return \"\\n\".join([para.text for para in doc.paragraphs]).strip()"
   ]
  },
  {
   "cell_type": "code",
   "execution_count": 8,
   "metadata": {},
   "outputs": [],
   "source": [
    "text_ep=extract_text_from_pdf(path)"
   ]
  },
  {
   "cell_type": "code",
   "execution_count": 12,
   "metadata": {},
   "outputs": [],
   "source": [
    "with open(\"output.txt\",\"w\") as file:\n",
    "    file.write(text_ep)"
   ]
  },
  {
   "cell_type": "code",
   "execution_count": 17,
   "metadata": {},
   "outputs": [],
   "source": [
    "import re\n",
    "updated_text=re.sub(r\"[^a-zA-Z0-9\\s@.]\",\"\",text_ep)"
   ]
  },
  {
   "cell_type": "code",
   "execution_count": 18,
   "metadata": {},
   "outputs": [],
   "source": [
    "with open(\"output.txt\",\"w\") as file:\n",
    "    file.write(updated_text)"
   ]
  },
  {
   "cell_type": "code",
   "execution_count": 24,
   "metadata": {},
   "outputs": [],
   "source": [
    "def parse_to_text(path):\n",
    "    if path[-3:]==\"pdf\":\n",
    "        resume_text = extract_text_from_pdf(path)\n",
    "    if path[-3:]==\"doc\":\n",
    "        resume_text = extract_text_from_docx(path)\n",
    "    \n",
    "    resume_text = re.sub(r\"[^a-zA-Z0-9\\s@.]\",\"\",resume_text)\n",
    "    return resume_text"
   ]
  },
  {
   "cell_type": "code",
   "execution_count": 25,
   "metadata": {},
   "outputs": [],
   "source": [
    "text = parse_to_text(path)"
   ]
  },
  {
   "cell_type": "markdown",
   "metadata": {},
   "source": [
    "Working with gemini to extract information"
   ]
  },
  {
   "cell_type": "code",
   "execution_count": null,
   "metadata": {},
   "outputs": [
    {
     "data": {
      "text/plain": [
       "'Cindy Lou Who\\n321 Sesame Street  Boca Raton FL 33829  9545551212  cindylou@nova.edu\\nEDUCATION\\nNova Southeastern University Davie FL\\n B.S. in Computer Science Expected May 2010\\n Minors in Mathematics and Physics GPA 3.75 Honors Deans List\\nRelevant Courses\\n HumanComputer Interaction Artificial Intelligence 3D Animation Logic Programming\\nQuantum Mechanics Theory of Computation Machine Learning Computer Graphics\\nSKILLS  STRENGTHS\\n Programming languages Perl Java C HTML PHP MySQL Scheme MatLab\\n Software Microsoft Office Adobe Photoshop and Dreamweaver 3ds Max\\n Operating Systems Windows 95 98 2000 XP Vista Mac OS Linux\\n Professional Selfmotivated creative thinker detailoriented excellent time management\\nskills\\nEXPERIENCE\\nABC Research Boca Raton FL May 2008  Sept 2008\\nCollaborative User Experience Group Intern\\n Developed wikis blogs and social networks with a team of computer and social scientists\\n Contributed technical support to development of groundbreaking networking software to be\\nshowcased in forthcoming industry publication\\nLibrary Application Services NSU Davie FL May 2007  Present\\nStudent Web Developer\\n Develop and maintain individualized websites for a range of divisions across the university\\n Assist in the technical administration of the campus intranet and calendar systems\\nComputer Science Departments NSU Davie FL Sept 2007  May 2008\\nTeaching Assistant\\n Gave weekly lectures to students enrolled in advanced programming language course and\\nintroductory physics course\\n Explained complex concepts in small group setting grade assignments and examinations\\n Held office hours for individual student discussion\\nYMCA Fort Lauderdale FL Jan 2005  August 2007\\nComputer teacher\\n Taught basic computer skills to teenage and elderly town residents\\nACTIVITIES\\nEducation Club NSU Davie FL 2006  2008\\n Tutored elementary school children in math and science\\nFreelance Music Teacher Fort Lauderdale FL 2005  Present\\n Give guitar and piano lessons to high school and college students\\n Prepare students for recitals and accompany them during performances'"
      ]
     },
     "execution_count": 26,
     "metadata": {},
     "output_type": "execute_result"
    }
   ],
   "source": []
  },
  {
   "cell_type": "code",
   "execution_count": null,
   "metadata": {},
   "outputs": [],
   "source": []
  }
 ],
 "metadata": {
  "kernelspec": {
   "display_name": "Python 3",
   "language": "python",
   "name": "python3"
  },
  "language_info": {
   "codemirror_mode": {
    "name": "ipython",
    "version": 3
   },
   "file_extension": ".py",
   "mimetype": "text/x-python",
   "name": "python",
   "nbconvert_exporter": "python",
   "pygments_lexer": "ipython3",
   "version": "3.12.9"
  }
 },
 "nbformat": 4,
 "nbformat_minor": 2
}
