{
 "cells": [
  {
   "cell_type": "code",
   "execution_count": 1,
   "metadata": {},
   "outputs": [],
   "source": [
    "with open(\"output.txt\",\"r\") as file:\n",
    "    resume_content = file.read()"
   ]
  },
  {
   "cell_type": "code",
   "execution_count": null,
   "metadata": {},
   "outputs": [],
   "source": []
  },
  {
   "cell_type": "code",
   "execution_count": null,
   "metadata": {},
   "outputs": [],
   "source": []
  },
  {
   "cell_type": "code",
   "execution_count": 3,
   "metadata": {},
   "outputs": [],
   "source": [
    "prompt = f\"\"\"I am creating a web app platform that fetches user resumes and provides a mock interview consisting of Aptitude & Reasoning, Technical, and HR rounds. I need you to generate detailed insights that I can feed into an LLM to create question content for the exam.\n",
    "\n",
    "Provide structured insights such as experience level, test difficulty, skill set, and other relevant factors that will help structure the exam. Be as detailed and numeric as possible (e.g., use \"5/10\" instead of \"five out of ten\").\n",
    "\n",
    "Format the response as a comma-separated list, using \"||\" to separate different metrics. Do not include any titles, introductions, or salutations—just the insights in the format below:\n",
    "\n",
    "Metrics:\n",
    "\n",
    "Difficulty\n",
    "Experience\n",
    "Skillset\n",
    "Aptitude Focus\n",
    "Technical Focus\n",
    "HR Focus\n",
    "Experience Level Categorization\n",
    "Technical Skill Emphasis\n",
    "Domain Knowledge Emphasis\n",
    "Aptitude Test Skill Split\n",
    "Technical Test Skill Split\n",
    "Question Format Diversity\n",
    "Skill Proficiency Levels\n",
    "Skill Importance Weights\n",
    "Contextual Question Scenarios\n",
    "Test Time Allocation\n",
    "Code Writing Emphasis\n",
    "Programming Language Prioritization\n",
    "HR Round Focus Areas\n",
    "Behavioral Competencies Tested\n",
    "Situational Judgment Scenarios\n",
    "Instructions:\n",
    "\n",
    "Do not include any question types.\n",
    "Do not use any special symbols beyond commas and \"||\" as separators.\n",
    "Keep the response concise and structured.\n",
    "Here is the resume content: {resume_content}\"\"\"\n",
    "\n",
    "import google.generativeai as genai\n",
    "import re\n",
    "import os\n",
    "from dotenv import load_dotenv\n",
    "load_dotenv()\n",
    "GEMINI_API_KEY=os.getenv(\"GEMINI_API_KEY\")\n",
    "genai.configure(api_key=GEMINI_API_KEY)\n",
    "model = genai.GenerativeModel(\"gemini-2.0-flash\")\n",
    "response = model.generate_content(prompt)\n"
   ]
  },
  {
   "cell_type": "code",
   "execution_count": null,
   "metadata": {},
   "outputs": [],
   "source": [
    "import google.generativeai as genai\n",
    "import re\n",
    "import os\n",
    "from dotenv import load_dotenv\n",
    "load_dotenv()\n",
    "GEMINI_API_KEY=os.getenv(\"GEMINI_API_KEY\")\n",
    "genai.configure(api_key=GEMINI_API_KEY)\n",
    "model = genai.GenerativeModel(\"gemini-2.0-flash\")\n",
    "response = model.generate_content(prompt)"
   ]
  },
  {
   "cell_type": "code",
   "execution_count": 4,
   "metadata": {},
   "outputs": [],
   "source": [
    "metrics_info=list((response.text).split(\"||\"))"
   ]
  },
  {
   "cell_type": "code",
   "execution_count": 5,
   "metadata": {},
   "outputs": [
    {
     "data": {
      "text/plain": [
       "['5/10',\n",
       " 'Entry-Level',\n",
       " 'Programming,Web Development,Teaching',\n",
       " 'Problem Solving,Logical Reasoning',\n",
       " 'Data Structures,Algorithms,Web Technologies',\n",
       " 'Communication,Teamwork,Adaptability',\n",
       " 'Entry-Level: 0-2 Years',\n",
       " 'Web Technologies: 30%,Programming Fundamentals: 40%,Database Concepts: 30%',\n",
       " 'None: General CS Focus',\n",
       " 'Verbal Reasoning: 30%,Numerical Reasoning: 30%,Logical Reasoning: 40%',\n",
       " 'Algorithms: 30%,Data Structures: 30%,Web Development: 40%',\n",
       " 'Multiple Choice,Code Snippets,Explanations',\n",
       " 'Beginner: 60%,Intermediate: 40%',\n",
       " 'Programming Fundamentals: 40%,Web Development: 30%,Problem Solving: 30%',\n",
       " 'Simulated Development Scenarios,Debugging Challenges',\n",
       " 'Aptitude: 20%,Technical: 60%,HR: 20%',\n",
       " '20%',\n",
       " 'Java,C,HTML,PHP,MySQL: Prioritize Java and Web related Skills',\n",
       " 'Teamwork,Communication,Problem-Solving',\n",
       " 'Teamwork,Communication,Problem-Solving,Adaptability',\n",
       " 'Project Conflicts,Ethical Dilemmas']"
      ]
     },
     "execution_count": 5,
     "metadata": {},
     "output_type": "execute_result"
    }
   ],
   "source": [
    "metrics_info"
   ]
  },
  {
   "cell_type": "code",
   "execution_count": 6,
   "metadata": {},
   "outputs": [],
   "source": [
    "metrics_titles = [\n",
    "    \"difficulty\",\n",
    "    \"experience\",\n",
    "    \"skillset\",\n",
    "    \"aptitude_focus\",\n",
    "    \"technical_focus\",\n",
    "    \"hr_focus\",\n",
    "    \"experience_level_categorization\",\n",
    "    \"technical_skill_emphasis\",\n",
    "    \"domain_knowledge_emphasis\",\n",
    "    \"aptitude_test_skill_split\",\n",
    "    \"technical_test_skill_split\",\n",
    "    \"question_format_diversity\",\n",
    "    \"skill_proficiency_levels\",\n",
    "    \"skill_importance_weights\",\n",
    "    \"contextual_question_scenarios\",\n",
    "    \"test_time_allocation\",\n",
    "    \"code_writing_emphasis\",\n",
    "    \"programming_language_prioritization\",\n",
    "    \"hr_round_focus_areas\",\n",
    "    \"behavioral_competencies_tested\",\n",
    "    \"situational_judgment_scenarios\"\n",
    "]\n",
    "\n"
   ]
  },
  {
   "cell_type": "code",
   "execution_count": 7,
   "metadata": {},
   "outputs": [
    {
     "data": {
      "text/plain": [
       "(21, 21)"
      ]
     },
     "execution_count": 7,
     "metadata": {},
     "output_type": "execute_result"
    }
   ],
   "source": [
    "len(metrics_info),len(metrics_titles)"
   ]
  },
  {
   "cell_type": "code",
   "execution_count": 8,
   "metadata": {},
   "outputs": [],
   "source": [
    "metrics_dict = {title:metric for title,metric in zip(metrics_titles,metrics_info)}"
   ]
  },
  {
   "cell_type": "code",
   "execution_count": 9,
   "metadata": {},
   "outputs": [
    {
     "ename": "NameError",
     "evalue": "name 'me' is not defined",
     "output_type": "error",
     "traceback": [
      "\u001b[31m---------------------------------------------------------------------------\u001b[39m",
      "\u001b[31mNameError\u001b[39m                                 Traceback (most recent call last)",
      "\u001b[36mCell\u001b[39m\u001b[36m \u001b[39m\u001b[32mIn[9]\u001b[39m\u001b[32m, line 1\u001b[39m\n\u001b[32m----> \u001b[39m\u001b[32m1\u001b[39m \u001b[43mme\u001b[49m\n",
      "\u001b[31mNameError\u001b[39m: name 'me' is not defined"
     ]
    }
   ],
   "source": [
    "me"
   ]
  },
  {
   "cell_type": "code",
   "execution_count": 12,
   "metadata": {},
   "outputs": [],
   "source": [
    "def extract_metrics(resume_content)->dict:\n",
    "    prompt = f\"\"\"I am creating a web app platform that fetches user resumes and provides a mock interview consisting of Aptitude & Reasoning, Technical, and HR rounds. I need you to generate detailed insights that I can feed into an LLM to create question content for the exam.\n",
    "\n",
    "    Provide structured insights such as experience level, test difficulty, skill set, and other relevant factors that will help structure the exam. Be as detailed and numeric as possible (e.g., use \"5/10\" instead of \"five out of ten\").\n",
    "\n",
    "    Format the response as a comma-separated list, using \"||\" to separate different metrics. Do not include any titles, introductions, or salutations—just the insights in the format below:\n",
    "\n",
    "    Metrics:\n",
    "\n",
    "    Difficulty\n",
    "    Experience\n",
    "    Skillset\n",
    "    Aptitude Focus\n",
    "    Technical Focus\n",
    "    HR Focus\n",
    "    Experience Level Categorization\n",
    "    Technical Skill Emphasis\n",
    "    Domain Knowledge Emphasis\n",
    "    Aptitude Test Skill Split\n",
    "    Technical Test Skill Split\n",
    "    Question Format Diversity\n",
    "    Skill Proficiency Levels\n",
    "    Skill Importance Weights\n",
    "    Contextual Question Scenarios\n",
    "    Test Time Allocation\n",
    "    Code Writing Emphasis\n",
    "    Programming Language Prioritization\n",
    "    HR Round Focus Areas\n",
    "    Behavioral Competencies Tested\n",
    "    Situational Judgment Scenarios\n",
    "    Instructions:\n",
    "\n",
    "    Do not include any question types.\n",
    "    Do not use any special symbols beyond commas and \"||\" as separators.\n",
    "    Keep the response concise and structured.\n",
    "    Here is the resume content: {resume_content}\"\"\"\n",
    "    import google.generativeai as genai\n",
    "    import re\n",
    "    import os\n",
    "    from dotenv import load_dotenv\n",
    "    load_dotenv()\n",
    "    GEMINI_API_KEY=os.getenv(\"GEMINI_API_KEY\")\n",
    "    genai.configure(api_key=GEMINI_API_KEY)\n",
    "    model = genai.GenerativeModel(\"gemini-2.0-flash\")\n",
    "    response = model.generate_content(prompt)\n",
    "    metrics_info=list((response.text).split(\"||\"))\n",
    "    metrics_titles = [\n",
    "    \"difficulty\",\n",
    "    \"experience\",\n",
    "    \"skillset\",\n",
    "    \"aptitude_focus\",\n",
    "    \"technical_focus\",\n",
    "    \"hr_focus\",\n",
    "    \"experience_level_categorization\",\n",
    "    \"technical_skill_emphasis\",\n",
    "    \"domain_knowledge_emphasis\",\n",
    "    \"aptitude_test_skill_split\",\n",
    "    \"technical_test_skill_split\",\n",
    "    \"question_format_diversity\",\n",
    "    \"skill_proficiency_levels\",\n",
    "    \"skill_importance_weights\",\n",
    "    \"contextual_question_scenarios\",\n",
    "    \"test_time_allocation\",\n",
    "    \"code_writing_emphasis\",\n",
    "    \"programming_language_prioritization\",\n",
    "    \"hr_round_focus_areas\",\n",
    "    \"behavioral_competencies_tested\",\n",
    "    \"situational_judgment_scenarios\"\n",
    "    ]\n",
    "    metrics_dict = {title:metric.split(\"\\n\")[0] for title,metric in zip(metrics_titles,metrics_info)}\n",
    "    return metrics_dict\n",
    "\n"
   ]
  },
  {
   "cell_type": "code",
   "execution_count": 13,
   "metadata": {},
   "outputs": [
    {
     "data": {
      "text/plain": [
       "{'difficulty': '6/10',\n",
       " 'experience': 'Entry-Level',\n",
       " 'skillset': 'Programming, Web Development, Teaching, Problem Solving',\n",
       " 'aptitude_focus': 'Logical Reasoning, Numerical Reasoning, Abstract Reasoning',\n",
       " 'technical_focus': 'Data Structures, Algorithms, Web Technologies, Software Development',\n",
       " 'hr_focus': 'Behavioral Questions, Situational Questions, Motivation Questions',\n",
       " 'experience_level_categorization': 'Entry-Level: 0-2 Years',\n",
       " 'technical_skill_emphasis': 'Emphasis on Fundamentals with Web Technologies',\n",
       " 'domain_knowledge_emphasis': 'Moderate Emphasis on Algorithms & Data Structures',\n",
       " 'aptitude_test_skill_split': 'Verbal Reasoning: 30%, Numerical Reasoning: 30%, Logical Reasoning: 40%',\n",
       " 'technical_test_skill_split': 'Data Structures: 30%, Algorithms: 30%, Web Technologies: 40%',\n",
       " 'question_format_diversity': 'Multiple Choice, Coding Problems, Open-Ended Questions',\n",
       " 'skill_proficiency_levels': 'Beginner: 60%, Intermediate: 40%',\n",
       " 'skill_importance_weights': 'Programming: 40%, Web Development: 30%, Problem Solving: 30%',\n",
       " 'contextual_question_scenarios': 'Simulated Work Scenarios, Project-Based Scenarios',\n",
       " 'test_time_allocation': 'Aptitude: 25%, Technical: 50%, HR: 25%',\n",
       " 'code_writing_emphasis': 'Moderate (Focus on understanding logic)',\n",
       " 'programming_language_prioritization': 'Java, HTML, PHP, MySQL, Perl',\n",
       " 'hr_round_focus_areas': 'Career Goals, Teamwork, Problem-Solving Approach',\n",
       " 'behavioral_competencies_tested': 'Communication, Teamwork, Adaptability, Problem-Solving',\n",
       " 'situational_judgment_scenarios': 'Conflict Resolution, Ethical Dilemmas, Team Project Scenarios'}"
      ]
     },
     "execution_count": 13,
     "metadata": {},
     "output_type": "execute_result"
    }
   ],
   "source": [
    "extract_metrics(resume_content)"
   ]
  },
  {
   "cell_type": "code",
   "execution_count": null,
   "metadata": {},
   "outputs": [],
   "source": []
  }
 ],
 "metadata": {
  "kernelspec": {
   "display_name": "Python 3",
   "language": "python",
   "name": "python3"
  },
  "language_info": {
   "codemirror_mode": {
    "name": "ipython",
    "version": 3
   },
   "file_extension": ".py",
   "mimetype": "text/x-python",
   "name": "python",
   "nbconvert_exporter": "python",
   "pygments_lexer": "ipython3",
   "version": "3.12.9"
  }
 },
 "nbformat": 4,
 "nbformat_minor": 2
}
